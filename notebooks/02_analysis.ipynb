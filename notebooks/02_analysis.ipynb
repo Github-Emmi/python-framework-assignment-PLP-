{
 "cells": [
  {
   "cell_type": "code",
   "execution_count": null,
   "id": "55816419",
   "metadata": {},
   "outputs": [],
   "source": [
    "# Analysis notebook with all visualizations\n",
    "import pandas as pd\n",
    "import matplotlib.pyplot as plt\n",
    "from src.data_loader import load_data\n",
    "from src.data_cleaner import clean_data\n",
    "from src.viz import *\n",
    "\n",
    "# Load and clean data\n",
    "df = load_data('../data/metadata_sample.csv')\n",
    "df_clean = clean_data(df)\n",
    "\n",
    "# Generate all visualizations\n",
    "fig1 = plot_publications_by_year(df_clean)\n",
    "fig2 = plot_top_journals(df_clean)\n",
    "fig3 = plot_title_wordcloud(df_clean)\n",
    "fig4 = plot_top_authors(df_clean)\n",
    "\n",
    "# Save figures for README\n",
    "fig1.savefig('../screenshots/publications_by_year.png', dpi=150, bbox_inches='tight')\n",
    "fig2.savefig('../screenshots/top_journals.png', dpi=150, bbox_inches='tight')\n",
    "fig3.savefig('../screenshots/title_wordcloud.png', dpi=150, bbox_inches='tight')\n",
    "fig4.savefig('../screenshots/top_authors.png', dpi=150, bbox_inches='tight')\n",
    "\n",
    "plt.show()"
   ]
  }
 ],
 "metadata": {
  "language_info": {
   "name": "python"
  }
 },
 "nbformat": 4,
 "nbformat_minor": 5
}

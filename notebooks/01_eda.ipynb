{
 "cells": [
  {
   "cell_type": "markdown",
   "id": "bc5284fe",
   "metadata": {},
   "source": [
    "# Initial exploration notebook"
   ]
  },
  {
   "cell_type": "code",
   "execution_count": null,
   "id": "9c9a9dfe",
   "metadata": {},
   "outputs": [],
   "source": [
    "# Initial exploration notebook\n",
    "import pandas as pd\n",
    "import seaborn as sns\n",
    "import matplotlib.pyplot as plt\n",
    "from src.data_loader import load_data, explore_data\n",
    "\n",
    "# Load data\n",
    "df = load_data('../data/metadata_sample.csv')\n",
    "\n",
    "# Basic exploration\n",
    "info, missing_df = explore_data(df)\n",
    "for line in info:\n",
    "    print(line)\n",
    "\n",
    "print(\"\\nMissing values:\")\n",
    "print(missing_df.head(10))\n",
    "\n",
    "# Visual EDA: Missing values heatmap (Standout Tip)\n",
    "plt.figure(figsize=(12, 8))\n",
    "# Calculate missing values for the first 20 columns with most missing data\n",
    "missing_cols = missing_df.head(20).index.tolist()\n",
    "sns.heatmap(df[missing_cols].isnull(), cbar=False, yticklabels=False, cmap='viridis')\n",
    "plt.title('Missing Values Heatmap (Top 20 Columns)', fontsize=16)\n",
    "plt.tight_layout()\n",
    "plt.savefig('../screenshots/missing_values_heatmap.png', dpi=150, bbox_inches='tight')\n",
    "plt.show()"
   ]
  },
  {
   "cell_type": "code",
   "execution_count": null,
   "id": "464b0477",
   "metadata": {},
   "outputs": [],
   "source": [
    "\n"
   ]
  },
  {
   "cell_type": "code",
   "execution_count": null,
   "id": "498618a6",
   "metadata": {},
   "outputs": [],
   "source": []
  }
 ],
 "metadata": {
  "kernelspec": {
   "display_name": ".venv",
   "language": "python",
   "name": "python3"
  },
  "language_info": {
   "codemirror_mode": {
    "name": "ipython",
    "version": 3
   },
   "file_extension": ".py",
   "mimetype": "text/x-python",
   "name": "python",
   "nbconvert_exporter": "python",
   "pygments_lexer": "ipython3",
   "version": "3.11.8"
  }
 },
 "nbformat": 4,
 "nbformat_minor": 5
}
